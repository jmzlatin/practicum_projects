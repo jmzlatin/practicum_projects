{
 "cells": [
  {
   "cell_type": "markdown",
   "id": "c27829d0",
   "metadata": {},
   "source": [
    "<span style=\"color:blue\">\n",
    "In this data analytics project, we will be working with a large dataset to analyze and uncover insights about our target audience. The goal of this project is to gain a deeper understanding of our visitors and their behavior, which will help us make informed decisions about our marketing and engagement strategies.\n",
    "\n",
    "Dataframe:\n",
    "\n",
    "The dataset we will be working with consists of information about our visitors, including their demographic information, website usage patterns, and purchase history. The data is organized into a Pandas dataframe, which is a powerful tool for working with and analyzing large datasets in Python.\n",
    "\n",
    "Task Decomposition:\n",
    "\n",
    "To tackle this complex project, we will decompose it into smaller, more manageable sub-tasks. This will help us to focus on specific aspects of the project, understand the data better, and make progress in parallel. Our task decomposition will include the following steps:\n",
    "\n",
    "- Data cleaning and preparation: In this step, we will clean and prepare the data for analysis. This may involve removing missing or duplicate values, transforming variables, and creating new features.\n",
    "\n",
    "- Exploratory data analysis: In this step, we will explore the data and generate initial insights. This will include visualizing the data, identifying relationships and patterns, and performing basic statistical tests.\n",
    "\n",
    "- Hypothesis testing: In this step, we will formulate and test hypotheses about our target audience. This will involve identifying important variables and conducting more advanced statistical tests to confirm or reject our hypotheses.\n",
    "\n",
    "- Data visualization: In this step, we will create visualizations to communicate our insights. This will include creating interactive dashboards, generating reports, and presenting our findings to stakeholders.\n",
    "\n",
    "By breaking down the project into smaller tasks, we will be able to focus on each step and make progress in a structured and organized way. This will help us to deliver high-quality results and achieve our goals.\n",
    "    \n",
    "</span>\n"
   ]
  },
  {
   "cell_type": "code",
   "execution_count": 1,
   "id": "42e4ddd7",
   "metadata": {},
   "outputs": [],
   "source": [
    "#Importing the necesary functions \n",
    "import pandas as pd\n",
    "import numpy as np\n",
    "import matplotlib.pyplot as plt\n",
    "import math \n",
    "import scipy.stats as stats"
   ]
  },
  {
   "cell_type": "code",
   "execution_count": 2,
   "id": "60228e84",
   "metadata": {},
   "outputs": [
    {
     "data": {
      "text/html": [
       "<div>\n",
       "<style scoped>\n",
       "    .dataframe tbody tr th:only-of-type {\n",
       "        vertical-align: middle;\n",
       "    }\n",
       "\n",
       "    .dataframe tbody tr th {\n",
       "        vertical-align: top;\n",
       "    }\n",
       "\n",
       "    .dataframe thead th {\n",
       "        text-align: right;\n",
       "    }\n",
       "</style>\n",
       "<table border=\"1\" class=\"dataframe\">\n",
       "  <thead>\n",
       "    <tr style=\"text-align: right;\">\n",
       "      <th></th>\n",
       "      <th>Hypothesis</th>\n",
       "      <th>Reach</th>\n",
       "      <th>Impact</th>\n",
       "      <th>Confidence</th>\n",
       "      <th>Effort</th>\n",
       "    </tr>\n",
       "  </thead>\n",
       "  <tbody>\n",
       "    <tr>\n",
       "      <th>0</th>\n",
       "      <td>Add two new channels for attracting traffic. T...</td>\n",
       "      <td>3</td>\n",
       "      <td>10</td>\n",
       "      <td>8</td>\n",
       "      <td>6</td>\n",
       "    </tr>\n",
       "    <tr>\n",
       "      <th>1</th>\n",
       "      <td>Launch your own delivery service. This will sh...</td>\n",
       "      <td>2</td>\n",
       "      <td>5</td>\n",
       "      <td>4</td>\n",
       "      <td>10</td>\n",
       "    </tr>\n",
       "    <tr>\n",
       "      <th>2</th>\n",
       "      <td>Add product recommendation blocks to the store...</td>\n",
       "      <td>8</td>\n",
       "      <td>3</td>\n",
       "      <td>7</td>\n",
       "      <td>3</td>\n",
       "    </tr>\n",
       "    <tr>\n",
       "      <th>3</th>\n",
       "      <td>Change the category structure. This will incre...</td>\n",
       "      <td>8</td>\n",
       "      <td>3</td>\n",
       "      <td>3</td>\n",
       "      <td>8</td>\n",
       "    </tr>\n",
       "    <tr>\n",
       "      <th>4</th>\n",
       "      <td>Change the background color on the main page. ...</td>\n",
       "      <td>3</td>\n",
       "      <td>1</td>\n",
       "      <td>1</td>\n",
       "      <td>1</td>\n",
       "    </tr>\n",
       "  </tbody>\n",
       "</table>\n",
       "</div>"
      ],
      "text/plain": [
       "                                          Hypothesis  Reach  Impact  \\\n",
       "0  Add two new channels for attracting traffic. T...      3      10   \n",
       "1  Launch your own delivery service. This will sh...      2       5   \n",
       "2  Add product recommendation blocks to the store...      8       3   \n",
       "3  Change the category structure. This will incre...      8       3   \n",
       "4  Change the background color on the main page. ...      3       1   \n",
       "\n",
       "   Confidence  Effort  \n",
       "0           8       6  \n",
       "1           4      10  \n",
       "2           7       3  \n",
       "3           3       8  \n",
       "4           1       1  "
      ]
     },
     "execution_count": 2,
     "metadata": {},
     "output_type": "execute_result"
    }
   ],
   "source": [
    "#Importing the Hypotheses files and calling it hypotheses\n",
    "hypotheses = pd.read_csv('moved_hypotheses_us.csv',sep=';')\n",
    "hypotheses.head()"
   ]
  },
  {
   "cell_type": "code",
   "execution_count": 3,
   "id": "96cad3f3",
   "metadata": {},
   "outputs": [
    {
     "data": {
      "text/html": [
       "<div>\n",
       "<style scoped>\n",
       "    .dataframe tbody tr th:only-of-type {\n",
       "        vertical-align: middle;\n",
       "    }\n",
       "\n",
       "    .dataframe tbody tr th {\n",
       "        vertical-align: top;\n",
       "    }\n",
       "\n",
       "    .dataframe thead th {\n",
       "        text-align: right;\n",
       "    }\n",
       "</style>\n",
       "<table border=\"1\" class=\"dataframe\">\n",
       "  <thead>\n",
       "    <tr style=\"text-align: right;\">\n",
       "      <th></th>\n",
       "      <th>transactionId</th>\n",
       "      <th>visitorId</th>\n",
       "      <th>date</th>\n",
       "      <th>revenue</th>\n",
       "      <th>group</th>\n",
       "    </tr>\n",
       "  </thead>\n",
       "  <tbody>\n",
       "    <tr>\n",
       "      <th>0</th>\n",
       "      <td>3667963787</td>\n",
       "      <td>3312258926</td>\n",
       "      <td>2019-08-15</td>\n",
       "      <td>30.4</td>\n",
       "      <td>B</td>\n",
       "    </tr>\n",
       "    <tr>\n",
       "      <th>1</th>\n",
       "      <td>2804400009</td>\n",
       "      <td>3642806036</td>\n",
       "      <td>2019-08-15</td>\n",
       "      <td>15.2</td>\n",
       "      <td>B</td>\n",
       "    </tr>\n",
       "    <tr>\n",
       "      <th>2</th>\n",
       "      <td>2961555356</td>\n",
       "      <td>4069496402</td>\n",
       "      <td>2019-08-15</td>\n",
       "      <td>10.2</td>\n",
       "      <td>A</td>\n",
       "    </tr>\n",
       "    <tr>\n",
       "      <th>3</th>\n",
       "      <td>3797467345</td>\n",
       "      <td>1196621759</td>\n",
       "      <td>2019-08-15</td>\n",
       "      <td>155.1</td>\n",
       "      <td>B</td>\n",
       "    </tr>\n",
       "    <tr>\n",
       "      <th>4</th>\n",
       "      <td>2282983706</td>\n",
       "      <td>2322279887</td>\n",
       "      <td>2019-08-15</td>\n",
       "      <td>40.5</td>\n",
       "      <td>B</td>\n",
       "    </tr>\n",
       "  </tbody>\n",
       "</table>\n",
       "</div>"
      ],
      "text/plain": [
       "   transactionId   visitorId        date  revenue group\n",
       "0     3667963787  3312258926  2019-08-15     30.4     B\n",
       "1     2804400009  3642806036  2019-08-15     15.2     B\n",
       "2     2961555356  4069496402  2019-08-15     10.2     A\n",
       "3     3797467345  1196621759  2019-08-15    155.1     B\n",
       "4     2282983706  2322279887  2019-08-15     40.5     B"
      ]
     },
     "execution_count": 3,
     "metadata": {},
     "output_type": "execute_result"
    }
   ],
   "source": [
    "#Importing the Orders files and calling it orders\n",
    "orders = pd.read_csv('moved_orders_us.csv')\n",
    "orders.head()"
   ]
  },
  {
   "cell_type": "code",
   "execution_count": 4,
   "id": "768e1683",
   "metadata": {},
   "outputs": [
    {
     "data": {
      "text/html": [
       "<div>\n",
       "<style scoped>\n",
       "    .dataframe tbody tr th:only-of-type {\n",
       "        vertical-align: middle;\n",
       "    }\n",
       "\n",
       "    .dataframe tbody tr th {\n",
       "        vertical-align: top;\n",
       "    }\n",
       "\n",
       "    .dataframe thead th {\n",
       "        text-align: right;\n",
       "    }\n",
       "</style>\n",
       "<table border=\"1\" class=\"dataframe\">\n",
       "  <thead>\n",
       "    <tr style=\"text-align: right;\">\n",
       "      <th></th>\n",
       "      <th>date</th>\n",
       "      <th>group</th>\n",
       "      <th>visits</th>\n",
       "    </tr>\n",
       "  </thead>\n",
       "  <tbody>\n",
       "    <tr>\n",
       "      <th>0</th>\n",
       "      <td>2019-08-01</td>\n",
       "      <td>A</td>\n",
       "      <td>719</td>\n",
       "    </tr>\n",
       "    <tr>\n",
       "      <th>1</th>\n",
       "      <td>2019-08-02</td>\n",
       "      <td>A</td>\n",
       "      <td>619</td>\n",
       "    </tr>\n",
       "  </tbody>\n",
       "</table>\n",
       "</div>"
      ],
      "text/plain": [
       "         date group  visits\n",
       "0  2019-08-01     A     719\n",
       "1  2019-08-02     A     619"
      ]
     },
     "execution_count": 4,
     "metadata": {},
     "output_type": "execute_result"
    }
   ],
   "source": [
    "#Importing the Visits files and calling it visits\n",
    "visits = pd.read_csv('moved_visits_us.csv')\n",
    "visits.head(2)"
   ]
  },
  {
   "cell_type": "markdown",
   "id": "17ed2691",
   "metadata": {},
   "source": [
    "## Preprocessing The Data "
   ]
  },
  {
   "cell_type": "code",
   "execution_count": 5,
   "id": "dfc69cd9",
   "metadata": {},
   "outputs": [],
   "source": [
    "#Changing the date to datetime format \n",
    "orders['date'] = pd.to_datetime(orders['date'], format=\"%Y-%m-%d %H:%M\")\n",
    "visits['date'] = pd.to_datetime(visits['date'], format=\"%Y-%m-%d %H:%M\")\n",
    "hypotheses.columns = hypotheses.columns.str.lower()\n",
    "pd.options.display.max_colwidth = 210"
   ]
  },
  {
   "cell_type": "code",
   "execution_count": 6,
   "id": "bd5ffd29",
   "metadata": {},
   "outputs": [
    {
     "data": {
      "text/plain": [
       "transactionId    0\n",
       "visitorId        0\n",
       "date             0\n",
       "revenue          0\n",
       "group            0\n",
       "dtype: int64"
      ]
     },
     "execution_count": 6,
     "metadata": {},
     "output_type": "execute_result"
    }
   ],
   "source": [
    "#Checking for missing values in the orders table \n",
    "orders.isna().sum()"
   ]
  },
  {
   "cell_type": "code",
   "execution_count": 7,
   "id": "8574fb8c",
   "metadata": {},
   "outputs": [
    {
     "data": {
      "text/plain": [
       "date      0\n",
       "group     0\n",
       "visits    0\n",
       "dtype: int64"
      ]
     },
     "execution_count": 7,
     "metadata": {},
     "output_type": "execute_result"
    }
   ],
   "source": [
    "#Checking for missing values in the visits table \n",
    "visits.isna().sum()"
   ]
  },
  {
   "cell_type": "code",
   "execution_count": 8,
   "id": "52583fb9",
   "metadata": {},
   "outputs": [
    {
     "data": {
      "text/plain": [
       "hypothesis    0\n",
       "reach         0\n",
       "impact        0\n",
       "confidence    0\n",
       "effort        0\n",
       "dtype: int64"
      ]
     },
     "execution_count": 8,
     "metadata": {},
     "output_type": "execute_result"
    }
   ],
   "source": [
    "#Checking for missing values in the hypotheses table \n",
    "hypotheses.isna().sum()"
   ]
  },
  {
   "cell_type": "markdown",
   "id": "32371a30",
   "metadata": {},
   "source": [
    "## Part 1. Prioritizing Hypotheses\n"
   ]
  },
  {
   "cell_type": "markdown",
   "id": "3d356ce7",
   "metadata": {},
   "source": [
    "### Apply the ICE framework to prioritize hypotheses. Sort them in descending order of priority."
   ]
  },
  {
   "cell_type": "code",
   "execution_count": 9,
   "id": "eda174ed",
   "metadata": {},
   "outputs": [
    {
     "data": {
      "text/html": [
       "<div>\n",
       "<style scoped>\n",
       "    .dataframe tbody tr th:only-of-type {\n",
       "        vertical-align: middle;\n",
       "    }\n",
       "\n",
       "    .dataframe tbody tr th {\n",
       "        vertical-align: top;\n",
       "    }\n",
       "\n",
       "    .dataframe thead th {\n",
       "        text-align: right;\n",
       "    }\n",
       "</style>\n",
       "<table border=\"1\" class=\"dataframe\">\n",
       "  <thead>\n",
       "    <tr style=\"text-align: right;\">\n",
       "      <th></th>\n",
       "      <th>hypothesis</th>\n",
       "      <th>ICE</th>\n",
       "    </tr>\n",
       "  </thead>\n",
       "  <tbody>\n",
       "    <tr>\n",
       "      <th>8</th>\n",
       "      <td>Launch a promotion that gives users discounts on their birthdays</td>\n",
       "      <td>16.20</td>\n",
       "    </tr>\n",
       "    <tr>\n",
       "      <th>0</th>\n",
       "      <td>Add two new channels for attracting traffic. This will bring 30% more users</td>\n",
       "      <td>13.33</td>\n",
       "    </tr>\n",
       "    <tr>\n",
       "      <th>7</th>\n",
       "      <td>Add a subscription form to all the main pages. This will help you compile a mailing list</td>\n",
       "      <td>11.20</td>\n",
       "    </tr>\n",
       "    <tr>\n",
       "      <th>6</th>\n",
       "      <td>Show banners with current offers and sales on the main page. This will boost conversion</td>\n",
       "      <td>8.00</td>\n",
       "    </tr>\n",
       "    <tr>\n",
       "      <th>2</th>\n",
       "      <td>Add product recommendation blocks to the store's site. This will increase conversion and average purchase size</td>\n",
       "      <td>7.00</td>\n",
       "    </tr>\n",
       "    <tr>\n",
       "      <th>1</th>\n",
       "      <td>Launch your own delivery service. This will shorten delivery time</td>\n",
       "      <td>2.00</td>\n",
       "    </tr>\n",
       "    <tr>\n",
       "      <th>5</th>\n",
       "      <td>Add a customer review page. This will increase the number of orders</td>\n",
       "      <td>1.33</td>\n",
       "    </tr>\n",
       "    <tr>\n",
       "      <th>3</th>\n",
       "      <td>Change the category structure. This will increase conversion since users will find the products they want more quickly</td>\n",
       "      <td>1.12</td>\n",
       "    </tr>\n",
       "    <tr>\n",
       "      <th>4</th>\n",
       "      <td>Change the background color on the main page. This will increase user engagement</td>\n",
       "      <td>1.00</td>\n",
       "    </tr>\n",
       "  </tbody>\n",
       "</table>\n",
       "</div>"
      ],
      "text/plain": [
       "                                                                                                               hypothesis  \\\n",
       "8                                                        Launch a promotion that gives users discounts on their birthdays   \n",
       "0                                             Add two new channels for attracting traffic. This will bring 30% more users   \n",
       "7                                Add a subscription form to all the main pages. This will help you compile a mailing list   \n",
       "6                                 Show banners with current offers and sales on the main page. This will boost conversion   \n",
       "2          Add product recommendation blocks to the store's site. This will increase conversion and average purchase size   \n",
       "1                                                       Launch your own delivery service. This will shorten delivery time   \n",
       "5                                                     Add a customer review page. This will increase the number of orders   \n",
       "3  Change the category structure. This will increase conversion since users will find the products they want more quickly   \n",
       "4                                        Change the background color on the main page. This will increase user engagement   \n",
       "\n",
       "     ICE  \n",
       "8  16.20  \n",
       "0  13.33  \n",
       "7  11.20  \n",
       "6   8.00  \n",
       "2   7.00  \n",
       "1   2.00  \n",
       "5   1.33  \n",
       "3   1.12  \n",
       "4   1.00  "
      ]
     },
     "execution_count": 9,
     "metadata": {},
     "output_type": "execute_result"
    }
   ],
   "source": [
    "#calculating the ICE framework and sorting from highest to lowest displaying priority\n",
    "hypotheses['ICE'] = ((hypotheses.impact * hypotheses.confidence ) / hypotheses.effort).round(2)\n",
    "hypotheses[['hypothesis', 'ICE']].sort_values(by='ICE', ascending=False)"
   ]
  },
  {
   "cell_type": "markdown",
   "id": "263ca17b",
   "metadata": {},
   "source": [
    "### Apply the RICE framework to prioritize hypotheses. Sort them in descending order of priority."
   ]
  },
  {
   "cell_type": "code",
   "execution_count": 10,
   "id": "3139ceef",
   "metadata": {},
   "outputs": [
    {
     "data": {
      "text/html": [
       "<div>\n",
       "<style scoped>\n",
       "    .dataframe tbody tr th:only-of-type {\n",
       "        vertical-align: middle;\n",
       "    }\n",
       "\n",
       "    .dataframe tbody tr th {\n",
       "        vertical-align: top;\n",
       "    }\n",
       "\n",
       "    .dataframe thead th {\n",
       "        text-align: right;\n",
       "    }\n",
       "</style>\n",
       "<table border=\"1\" class=\"dataframe\">\n",
       "  <thead>\n",
       "    <tr style=\"text-align: right;\">\n",
       "      <th></th>\n",
       "      <th>hypothesis</th>\n",
       "      <th>RICE</th>\n",
       "    </tr>\n",
       "  </thead>\n",
       "  <tbody>\n",
       "    <tr>\n",
       "      <th>7</th>\n",
       "      <td>Add a subscription form to all the main pages. This will help you compile a mailing list</td>\n",
       "      <td>112.0</td>\n",
       "    </tr>\n",
       "    <tr>\n",
       "      <th>2</th>\n",
       "      <td>Add product recommendation blocks to the store's site. This will increase conversion and average purchase size</td>\n",
       "      <td>56.0</td>\n",
       "    </tr>\n",
       "    <tr>\n",
       "      <th>0</th>\n",
       "      <td>Add two new channels for attracting traffic. This will bring 30% more users</td>\n",
       "      <td>40.0</td>\n",
       "    </tr>\n",
       "    <tr>\n",
       "      <th>6</th>\n",
       "      <td>Show banners with current offers and sales on the main page. This will boost conversion</td>\n",
       "      <td>40.0</td>\n",
       "    </tr>\n",
       "    <tr>\n",
       "      <th>8</th>\n",
       "      <td>Launch a promotion that gives users discounts on their birthdays</td>\n",
       "      <td>16.2</td>\n",
       "    </tr>\n",
       "    <tr>\n",
       "      <th>3</th>\n",
       "      <td>Change the category structure. This will increase conversion since users will find the products they want more quickly</td>\n",
       "      <td>9.0</td>\n",
       "    </tr>\n",
       "    <tr>\n",
       "      <th>1</th>\n",
       "      <td>Launch your own delivery service. This will shorten delivery time</td>\n",
       "      <td>4.0</td>\n",
       "    </tr>\n",
       "    <tr>\n",
       "      <th>5</th>\n",
       "      <td>Add a customer review page. This will increase the number of orders</td>\n",
       "      <td>4.0</td>\n",
       "    </tr>\n",
       "    <tr>\n",
       "      <th>4</th>\n",
       "      <td>Change the background color on the main page. This will increase user engagement</td>\n",
       "      <td>3.0</td>\n",
       "    </tr>\n",
       "  </tbody>\n",
       "</table>\n",
       "</div>"
      ],
      "text/plain": [
       "                                                                                                               hypothesis  \\\n",
       "7                                Add a subscription form to all the main pages. This will help you compile a mailing list   \n",
       "2          Add product recommendation blocks to the store's site. This will increase conversion and average purchase size   \n",
       "0                                             Add two new channels for attracting traffic. This will bring 30% more users   \n",
       "6                                 Show banners with current offers and sales on the main page. This will boost conversion   \n",
       "8                                                        Launch a promotion that gives users discounts on their birthdays   \n",
       "3  Change the category structure. This will increase conversion since users will find the products they want more quickly   \n",
       "1                                                       Launch your own delivery service. This will shorten delivery time   \n",
       "5                                                     Add a customer review page. This will increase the number of orders   \n",
       "4                                        Change the background color on the main page. This will increase user engagement   \n",
       "\n",
       "    RICE  \n",
       "7  112.0  \n",
       "2   56.0  \n",
       "0   40.0  \n",
       "6   40.0  \n",
       "8   16.2  \n",
       "3    9.0  \n",
       "1    4.0  \n",
       "5    4.0  \n",
       "4    3.0  "
      ]
     },
     "execution_count": 10,
     "metadata": {},
     "output_type": "execute_result"
    }
   ],
   "source": [
    "#calculating the RICE framework and sorting from highest to lowest displaying priority\n",
    "hypotheses['RICE'] = (hypotheses.reach * hypotheses.impact * hypotheses.confidence) / hypotheses.effort\n",
    "hypotheses[['hypothesis','RICE']].sort_values(by='RICE', ascending=False)"
   ]
  },
  {
   "cell_type": "markdown",
   "id": "24d5a183",
   "metadata": {},
   "source": [
    "### Show how the prioritization of hypotheses changes when you use RICE instead of ICE. Provide an explanation for the changes.\n"
   ]
  },
  {
   "cell_type": "code",
   "execution_count": 11,
   "id": "8b8da891",
   "metadata": {
    "scrolled": true
   },
   "outputs": [
    {
     "data": {
      "text/html": [
       "<div>\n",
       "<style scoped>\n",
       "    .dataframe tbody tr th:only-of-type {\n",
       "        vertical-align: middle;\n",
       "    }\n",
       "\n",
       "    .dataframe tbody tr th {\n",
       "        vertical-align: top;\n",
       "    }\n",
       "\n",
       "    .dataframe thead th {\n",
       "        text-align: right;\n",
       "    }\n",
       "</style>\n",
       "<table border=\"1\" class=\"dataframe\">\n",
       "  <thead>\n",
       "    <tr style=\"text-align: right;\">\n",
       "      <th></th>\n",
       "      <th>hypothesis</th>\n",
       "      <th>RICE</th>\n",
       "      <th>ICE</th>\n",
       "    </tr>\n",
       "  </thead>\n",
       "  <tbody>\n",
       "    <tr>\n",
       "      <th>7</th>\n",
       "      <td>Add a subscription form to all the main pages. This will help you compile a mailing list</td>\n",
       "      <td>112.0</td>\n",
       "      <td>11.20</td>\n",
       "    </tr>\n",
       "    <tr>\n",
       "      <th>2</th>\n",
       "      <td>Add product recommendation blocks to the store's site. This will increase conversion and average purchase size</td>\n",
       "      <td>56.0</td>\n",
       "      <td>7.00</td>\n",
       "    </tr>\n",
       "    <tr>\n",
       "      <th>0</th>\n",
       "      <td>Add two new channels for attracting traffic. This will bring 30% more users</td>\n",
       "      <td>40.0</td>\n",
       "      <td>13.33</td>\n",
       "    </tr>\n",
       "    <tr>\n",
       "      <th>6</th>\n",
       "      <td>Show banners with current offers and sales on the main page. This will boost conversion</td>\n",
       "      <td>40.0</td>\n",
       "      <td>8.00</td>\n",
       "    </tr>\n",
       "    <tr>\n",
       "      <th>8</th>\n",
       "      <td>Launch a promotion that gives users discounts on their birthdays</td>\n",
       "      <td>16.2</td>\n",
       "      <td>16.20</td>\n",
       "    </tr>\n",
       "    <tr>\n",
       "      <th>3</th>\n",
       "      <td>Change the category structure. This will increase conversion since users will find the products they want more quickly</td>\n",
       "      <td>9.0</td>\n",
       "      <td>1.12</td>\n",
       "    </tr>\n",
       "    <tr>\n",
       "      <th>1</th>\n",
       "      <td>Launch your own delivery service. This will shorten delivery time</td>\n",
       "      <td>4.0</td>\n",
       "      <td>2.00</td>\n",
       "    </tr>\n",
       "    <tr>\n",
       "      <th>5</th>\n",
       "      <td>Add a customer review page. This will increase the number of orders</td>\n",
       "      <td>4.0</td>\n",
       "      <td>1.33</td>\n",
       "    </tr>\n",
       "    <tr>\n",
       "      <th>4</th>\n",
       "      <td>Change the background color on the main page. This will increase user engagement</td>\n",
       "      <td>3.0</td>\n",
       "      <td>1.00</td>\n",
       "    </tr>\n",
       "  </tbody>\n",
       "</table>\n",
       "</div>"
      ],
      "text/plain": [
       "                                                                                                               hypothesis  \\\n",
       "7                                Add a subscription form to all the main pages. This will help you compile a mailing list   \n",
       "2          Add product recommendation blocks to the store's site. This will increase conversion and average purchase size   \n",
       "0                                             Add two new channels for attracting traffic. This will bring 30% more users   \n",
       "6                                 Show banners with current offers and sales on the main page. This will boost conversion   \n",
       "8                                                        Launch a promotion that gives users discounts on their birthdays   \n",
       "3  Change the category structure. This will increase conversion since users will find the products they want more quickly   \n",
       "1                                                       Launch your own delivery service. This will shorten delivery time   \n",
       "5                                                     Add a customer review page. This will increase the number of orders   \n",
       "4                                        Change the background color on the main page. This will increase user engagement   \n",
       "\n",
       "    RICE    ICE  \n",
       "7  112.0  11.20  \n",
       "2   56.0   7.00  \n",
       "0   40.0  13.33  \n",
       "6   40.0   8.00  \n",
       "8   16.2  16.20  \n",
       "3    9.0   1.12  \n",
       "1    4.0   2.00  \n",
       "5    4.0   1.33  \n",
       "4    3.0   1.00  "
      ]
     },
     "execution_count": 11,
     "metadata": {},
     "output_type": "execute_result"
    }
   ],
   "source": [
    "#Displaying the diffrent prioritization of RICE and ICE \n",
    "hypotheses[['hypothesis','RICE','ICE']].sort_values(by='RICE', ascending=False)"
   ]
  },
  {
   "cell_type": "markdown",
   "id": "371b5c24",
   "metadata": {},
   "source": [
    "<span style=\"color:blue\">\n",
    "The RICE and ICE methods were used to prioritize the hypotheses. The ICE method prioritized hypothesis number 8, \"Launch a promotion that gives users discounts on their birthdays,\" while the RICE method prioritized hypothesis number 7, \"Add a subscription form to all the main pages.\" The reason for this discrepancy is that the RICE method takes 'impact' into account, while the ICE method leaves it out. The impact parameter shows how strongly a change impacts users who are reached, and it was a key factor in prioritizing hypothesis number 7. Based on these findings, it is recommended to focus on hypothesis number 7 and implement the subscription form on all the main pages to compile a mailing list. This is expected to have a stronger impact on users and help drive business growth.</span> "
   ]
  },
  {
   "cell_type": "markdown",
   "id": "90ec3b21",
   "metadata": {},
   "source": [
    "## Part 2. A/B Test Analysis"
   ]
  },
  {
   "cell_type": "code",
   "execution_count": 12,
   "id": "35253a58",
   "metadata": {},
   "outputs": [
    {
     "data": {
      "text/plain": [
       "Timestamp('2019-08-01 00:00:00')"
      ]
     },
     "execution_count": 12,
     "metadata": {},
     "output_type": "execute_result"
    }
   ],
   "source": [
    "#Checking the start date of the test \n",
    "orders['date'].min()"
   ]
  },
  {
   "cell_type": "code",
   "execution_count": 13,
   "id": "ad416c5f",
   "metadata": {},
   "outputs": [
    {
     "data": {
      "text/plain": [
       "Timestamp('2019-08-31 00:00:00')"
      ]
     },
     "execution_count": 13,
     "metadata": {},
     "output_type": "execute_result"
    }
   ],
   "source": [
    "#Checking the end date of the test \n",
    "orders['date'].max()"
   ]
  },
  {
   "cell_type": "code",
   "execution_count": 14,
   "id": "2694022a",
   "metadata": {},
   "outputs": [
    {
     "data": {
      "text/plain": [
       "557"
      ]
     },
     "execution_count": 14,
     "metadata": {},
     "output_type": "execute_result"
    }
   ],
   "source": [
    "#The distribution of the numbers of users in group A\n",
    "number_of_usersA = orders[orders['group']=='A']['visitorId'].count()\n",
    "number_of_usersA"
   ]
  },
  {
   "cell_type": "code",
   "execution_count": 15,
   "id": "7013efb0",
   "metadata": {},
   "outputs": [
    {
     "data": {
      "text/plain": [
       "640"
      ]
     },
     "execution_count": 15,
     "metadata": {},
     "output_type": "execute_result"
    }
   ],
   "source": [
    "#The distribution of the numbers of users in group B\n",
    "number_of_usersB = orders[orders['group']=='B']['visitorId'].count()\n",
    "number_of_usersB"
   ]
  },
  {
   "cell_type": "code",
   "execution_count": 16,
   "id": "1edb1fc6",
   "metadata": {},
   "outputs": [],
   "source": [
    "usersB = orders[orders['group'] == 'B']\n",
    "usersA = orders[orders['group'] == 'A']"
   ]
  },
  {
   "cell_type": "code",
   "execution_count": 17,
   "id": "eb18fd8e",
   "metadata": {},
   "outputs": [],
   "source": [
    "#A function to find the visitorIds that are associated with both groups.\n",
    "def check_common_visitorIds(usersA, usersB):\n",
    "    visitor_A = set(usersA['visitorId'].unique())\n",
    "    visitor_B = set(usersB['visitorId'].unique())\n",
    "    common_visitorIds = visitor_A.intersection(visitor_B)\n",
    "    if len(common_visitorIds) > 0:\n",
    "        print(\"Visitor IDs associated with both groups A and B:\", common_visitorIds, len(common_visitorIds))\n"
   ]
  },
  {
   "cell_type": "code",
   "execution_count": 18,
   "id": "c192ec75",
   "metadata": {},
   "outputs": [
    {
     "name": "stdout",
     "output_type": "stream",
     "text": [
      "Visitor IDs associated with both groups A and B: {3957174400, 3984495233, 2780786433, 1294878855, 1648269707, 1614305549, 4120364173, 232979603, 199603092, 4266935830, 2712142231, 2587333274, 2716752286, 3891541246, 1668030113, 2654030115, 3234906277, 1230306981, 1404934699, 3803269165, 2949041841, 237748145, 457167155, 2927087541, 1738359350, 3062433592, 3656415546, 818047933, 393266494, 963407295, 471551937, 2579882178, 3202540741, 2686716486, 1333886533, 2044997962, 3941795274, 1801183820, 2378935119, 4256040402, 4069496402, 3766097110, 8300375, 351125977, 1602967004, 276558944, 2038680547, 3951559397, 3963646447, 4186807279, 3717692402, 1959144690, 2458001652, 2600415354, 2954449915, 1316129916, 477780734, 3972127743} 58\n"
     ]
    }
   ],
   "source": [
    "#running the function\n",
    "result = check_common_visitorIds(usersA, usersB)\n",
    "result"
   ]
  },
  {
   "cell_type": "markdown",
   "id": "1fc9e64f",
   "metadata": {},
   "source": [
    "<span style=\"color:blue\">\n",
    "The timespan of the A/B test is August 1 to the 31 of 2019. There are 557 users in group A and 640 in group B. There are 58 users who are in both groups A and B, I am not gonna change the data fram for the time because removing 58 users would drastically change the data.</span> "
   ]
  },
  {
   "cell_type": "markdown",
   "id": "5d0123b7",
   "metadata": {},
   "source": [
    "### Graph cumulative revenue by group. Make conclusions and conjectures."
   ]
  },
  {
   "cell_type": "code",
   "execution_count": 19,
   "id": "aa9a31fc",
   "metadata": {},
   "outputs": [],
   "source": [
    "datesGroups = orders[['date','group']].drop_duplicates()"
   ]
  },
  {
   "cell_type": "code",
   "execution_count": 20,
   "id": "5f33fc97",
   "metadata": {},
   "outputs": [
    {
     "data": {
      "text/html": [
       "<div>\n",
       "<style scoped>\n",
       "    .dataframe tbody tr th:only-of-type {\n",
       "        vertical-align: middle;\n",
       "    }\n",
       "\n",
       "    .dataframe tbody tr th {\n",
       "        vertical-align: top;\n",
       "    }\n",
       "\n",
       "    .dataframe thead th {\n",
       "        text-align: right;\n",
       "    }\n",
       "</style>\n",
       "<table border=\"1\" class=\"dataframe\">\n",
       "  <thead>\n",
       "    <tr style=\"text-align: right;\">\n",
       "      <th></th>\n",
       "      <th>date</th>\n",
       "      <th>group</th>\n",
       "      <th>transactionId</th>\n",
       "      <th>visitorId</th>\n",
       "      <th>revenue</th>\n",
       "    </tr>\n",
       "  </thead>\n",
       "  <tbody>\n",
       "    <tr>\n",
       "      <th>55</th>\n",
       "      <td>2019-08-01</td>\n",
       "      <td>A</td>\n",
       "      <td>24</td>\n",
       "      <td>20</td>\n",
       "      <td>2356.8</td>\n",
       "    </tr>\n",
       "    <tr>\n",
       "      <th>66</th>\n",
       "      <td>2019-08-01</td>\n",
       "      <td>B</td>\n",
       "      <td>21</td>\n",
       "      <td>20</td>\n",
       "      <td>1620.0</td>\n",
       "    </tr>\n",
       "  </tbody>\n",
       "</table>\n",
       "</div>"
      ],
      "text/plain": [
       "         date group  transactionId  visitorId  revenue\n",
       "55 2019-08-01     A             24         20   2356.8\n",
       "66 2019-08-01     B             21         20   1620.0"
      ]
     },
     "execution_count": 20,
     "metadata": {},
     "output_type": "execute_result"
    }
   ],
   "source": [
    "#Creating a table that groups the date based on date and group \n",
    "#then aggregates to get the number of transactions and customers and the total revenue\n",
    "ordersAggregated = (\n",
    "    datesGroups.apply(lambda x: orders[np.logical_and(orders['date'] <= x['date'], orders['group'] == x['group'])]\n",
    "    .agg({'date' : 'max', 'group' : 'max', 'transactionId' : pd.Series.nunique, 'visitorId' : pd.Series.nunique, 'revenue' : 'sum'}), axis=1)\n",
    "    .sort_values(by=['date','group']))\n",
    "ordersAggregated.head(2)"
   ]
  },
  {
   "cell_type": "code",
   "execution_count": 21,
   "id": "e83fc648",
   "metadata": {},
   "outputs": [
    {
     "data": {
      "text/html": [
       "<div>\n",
       "<style scoped>\n",
       "    .dataframe tbody tr th:only-of-type {\n",
       "        vertical-align: middle;\n",
       "    }\n",
       "\n",
       "    .dataframe tbody tr th {\n",
       "        vertical-align: top;\n",
       "    }\n",
       "\n",
       "    .dataframe thead th {\n",
       "        text-align: right;\n",
       "    }\n",
       "</style>\n",
       "<table border=\"1\" class=\"dataframe\">\n",
       "  <thead>\n",
       "    <tr style=\"text-align: right;\">\n",
       "      <th></th>\n",
       "      <th>date</th>\n",
       "      <th>group</th>\n",
       "      <th>visits</th>\n",
       "    </tr>\n",
       "  </thead>\n",
       "  <tbody>\n",
       "    <tr>\n",
       "      <th>55</th>\n",
       "      <td>2019-08-01</td>\n",
       "      <td>A</td>\n",
       "      <td>719</td>\n",
       "    </tr>\n",
       "    <tr>\n",
       "      <th>66</th>\n",
       "      <td>2019-08-01</td>\n",
       "      <td>B</td>\n",
       "      <td>713</td>\n",
       "    </tr>\n",
       "  </tbody>\n",
       "</table>\n",
       "</div>"
      ],
      "text/plain": [
       "         date group  visits\n",
       "55 2019-08-01     A     719\n",
       "66 2019-08-01     B     713"
      ]
     },
     "execution_count": 21,
     "metadata": {},
     "output_type": "execute_result"
    }
   ],
   "source": [
    "#Creating a table that groups based on date and group then aggreagates to get the number of visits per day/group\n",
    "visitorsAggregated = (\n",
    "    datesGroups.apply(lambda x: visits[np.logical_and(visits['date'] <= x['date'], visits['group'] == x['group'])]\n",
    "    .agg({'date' : 'max', 'group' : 'max', 'visits' : 'sum'}), axis=1).sort_values(by=['date','group']))\n",
    "visitorsAggregated.head(2)"
   ]
  },
  {
   "cell_type": "code",
   "execution_count": 22,
   "id": "25b25512",
   "metadata": {},
   "outputs": [],
   "source": [
    "#Merging the two table together and renaming the columns \n",
    "cumulative_data = ordersAggregated.merge(visitorsAggregated, left_on=['date','group'], right_on=['date','group'])\n",
    "cumulative_data.columns = ['date','group', 'orders', 'buyers', 'revenue', 'visits']"
   ]
  },
  {
   "cell_type": "code",
   "execution_count": 23,
   "id": "9d416a4f",
   "metadata": {},
   "outputs": [
    {
     "data": {
      "text/html": [
       "<div>\n",
       "<style scoped>\n",
       "    .dataframe tbody tr th:only-of-type {\n",
       "        vertical-align: middle;\n",
       "    }\n",
       "\n",
       "    .dataframe tbody tr th {\n",
       "        vertical-align: top;\n",
       "    }\n",
       "\n",
       "    .dataframe thead th {\n",
       "        text-align: right;\n",
       "    }\n",
       "</style>\n",
       "<table border=\"1\" class=\"dataframe\">\n",
       "  <thead>\n",
       "    <tr style=\"text-align: right;\">\n",
       "      <th></th>\n",
       "      <th>date</th>\n",
       "      <th>group</th>\n",
       "      <th>orders</th>\n",
       "      <th>buyers</th>\n",
       "      <th>revenue</th>\n",
       "      <th>visits</th>\n",
       "    </tr>\n",
       "  </thead>\n",
       "  <tbody>\n",
       "    <tr>\n",
       "      <th>0</th>\n",
       "      <td>2019-08-01</td>\n",
       "      <td>A</td>\n",
       "      <td>24</td>\n",
       "      <td>20</td>\n",
       "      <td>2356.8</td>\n",
       "      <td>719</td>\n",
       "    </tr>\n",
       "    <tr>\n",
       "      <th>1</th>\n",
       "      <td>2019-08-01</td>\n",
       "      <td>B</td>\n",
       "      <td>21</td>\n",
       "      <td>20</td>\n",
       "      <td>1620.0</td>\n",
       "      <td>713</td>\n",
       "    </tr>\n",
       "  </tbody>\n",
       "</table>\n",
       "</div>"
      ],
      "text/plain": [
       "        date group  orders  buyers  revenue  visits\n",
       "0 2019-08-01     A      24      20   2356.8     719\n",
       "1 2019-08-01     B      21      20   1620.0     713"
      ]
     },
     "execution_count": 23,
     "metadata": {},
     "output_type": "execute_result"
    }
   ],
   "source": [
    "cumulative_data.head(2)"
   ]
  },
  {
   "cell_type": "code",
   "execution_count": 24,
   "id": "a17c8559",
   "metadata": {},
   "outputs": [],
   "source": [
    "#DataFrame with cumulative revenue by day, group A\n",
    "cumulativeRevenueA = cumulative_data[cumulative_data['group']=='A'][['date','revenue','orders']]\n",
    "\n",
    "#DataFrame with cumulative revenue by day, group B\n",
    "cumulativeRevenueB = cumulative_data[cumulative_data['group']=='B'][['date','revenue','orders']]"
   ]
  },
  {
   "cell_type": "code",
   "execution_count": 25,
   "id": "18b0bd0b",
   "metadata": {},
   "outputs": [
    {
     "data": {
      "text/html": [
       "<div>\n",
       "<style scoped>\n",
       "    .dataframe tbody tr th:only-of-type {\n",
       "        vertical-align: middle;\n",
       "    }\n",
       "\n",
       "    .dataframe tbody tr th {\n",
       "        vertical-align: top;\n",
       "    }\n",
       "\n",
       "    .dataframe thead th {\n",
       "        text-align: right;\n",
       "    }\n",
       "</style>\n",
       "<table border=\"1\" class=\"dataframe\">\n",
       "  <thead>\n",
       "    <tr style=\"text-align: right;\">\n",
       "      <th></th>\n",
       "      <th>date</th>\n",
       "      <th>revenue</th>\n",
       "      <th>orders</th>\n",
       "    </tr>\n",
       "  </thead>\n",
       "  <tbody>\n",
       "    <tr>\n",
       "      <th>1</th>\n",
       "      <td>2019-08-01</td>\n",
       "      <td>1620.0</td>\n",
       "      <td>21</td>\n",
       "    </tr>\n",
       "    <tr>\n",
       "      <th>3</th>\n",
       "      <td>2019-08-02</td>\n",
       "      <td>4243.8</td>\n",
       "      <td>45</td>\n",
       "    </tr>\n",
       "    <tr>\n",
       "      <th>5</th>\n",
       "      <td>2019-08-03</td>\n",
       "      <td>6050.6</td>\n",
       "      <td>61</td>\n",
       "    </tr>\n",
       "    <tr>\n",
       "      <th>7</th>\n",
       "      <td>2019-08-04</td>\n",
       "      <td>7767.9</td>\n",
       "      <td>78</td>\n",
       "    </tr>\n",
       "    <tr>\n",
       "      <th>9</th>\n",
       "      <td>2019-08-05</td>\n",
       "      <td>9262.9</td>\n",
       "      <td>101</td>\n",
       "    </tr>\n",
       "    <tr>\n",
       "      <th>11</th>\n",
       "      <td>2019-08-06</td>\n",
       "      <td>13069.3</td>\n",
       "      <td>129</td>\n",
       "    </tr>\n",
       "    <tr>\n",
       "      <th>13</th>\n",
       "      <td>2019-08-07</td>\n",
       "      <td>16600.8</td>\n",
       "      <td>153</td>\n",
       "    </tr>\n",
       "    <tr>\n",
       "      <th>15</th>\n",
       "      <td>2019-08-08</td>\n",
       "      <td>20088.6</td>\n",
       "      <td>180</td>\n",
       "    </tr>\n",
       "    <tr>\n",
       "      <th>17</th>\n",
       "      <td>2019-08-09</td>\n",
       "      <td>22646.7</td>\n",
       "      <td>205</td>\n",
       "    </tr>\n",
       "    <tr>\n",
       "      <th>19</th>\n",
       "      <td>2019-08-10</td>\n",
       "      <td>24367.1</td>\n",
       "      <td>228</td>\n",
       "    </tr>\n",
       "  </tbody>\n",
       "</table>\n",
       "</div>"
      ],
      "text/plain": [
       "         date  revenue  orders\n",
       "1  2019-08-01   1620.0      21\n",
       "3  2019-08-02   4243.8      45\n",
       "5  2019-08-03   6050.6      61\n",
       "7  2019-08-04   7767.9      78\n",
       "9  2019-08-05   9262.9     101\n",
       "11 2019-08-06  13069.3     129\n",
       "13 2019-08-07  16600.8     153\n",
       "15 2019-08-08  20088.6     180\n",
       "17 2019-08-09  22646.7     205\n",
       "19 2019-08-10  24367.1     228"
      ]
     },
     "execution_count": 25,
     "metadata": {},
     "output_type": "execute_result"
    }
   ],
   "source": [
    "cumulativeRevenueB.head(10)"
   ]
  },
  {
   "cell_type": "code",
   "execution_count": 26,
   "id": "a6d7351f",
   "metadata": {},
   "outputs": [
    {
     "data": {
      "image/png": "[encoded data removed]",
      "text/plain": [
       "<Figure size 640x480 with 1 Axes>"
      ]
     },
     "metadata": {},
     "output_type": "display_data"
    }
   ],
   "source": [
    "#plotting the group A and B revenue graph\n",
    "plt.plot(cumulativeRevenueA['date'], cumulativeRevenueA['revenue'], label='A')\n",
    "plt.plot(cumulativeRevenueB['date'], cumulativeRevenueB['revenue'], label='B')\n",
    "plt.rcParams[\"figure.figsize\"] = (18,3)\n",
    "plt.xlabel(\"Date\")\n",
    "plt.ylabel(\"Cumulative Revenue\")\n",
    "plt.title('Revenue')\n",
    "plt.legend()\n",
    "plt.show()"
   ]
  },
  {
   "cell_type": "markdown",
   "id": "d503eddb",
   "metadata": {},
   "source": [
    "<span style=\"color:blue\">Group A had a steady rise in revenue while group B had a hugh boost around the 18th.  </span>\n",
    "\n"
   ]
  },
  {
   "cell_type": "markdown",
   "id": "3407994b",
   "metadata": {},
   "source": [
    "### Graph cumulative average order size by group. Make conclusions and conjectures.\n"
   ]
  },
  {
   "cell_type": "code",
   "execution_count": 27,
   "id": "c1d4c5cc",
   "metadata": {},
   "outputs": [
    {
     "data": {
      "image/png": "[encoded data removed]",
      "text/plain": [
       "<Figure size 1800x300 with 1 Axes>"
      ]
     },
     "metadata": {},
     "output_type": "display_data"
    }
   ],
   "source": [
    "#plotting the group A and B average order size graph\n",
    "plt.plot(cumulativeRevenueA['date'], cumulativeRevenueA['revenue']/cumulativeRevenueA['orders'], label='A')\n",
    "plt.plot(cumulativeRevenueB['date'], cumulativeRevenueB['revenue']/cumulativeRevenueB['orders'], label='B')\n",
    "plt.rcParams[\"figure.figsize\"] = (18,5)\n",
    "plt.xlabel(\"Date\")\n",
    "plt.ylabel(\"AVG Order size\")\n",
    "plt.title('Average Order Size by Group')\n",
    "plt.legend()\n",
    "plt.show()"
   ]
  },
  {
   "cell_type": "markdown",
   "id": "0b9f1b27",
   "metadata": {},
   "source": [
    "<span style=\"color:blue\">Group B had a hugh rise in avg order size between the 17th and the 18th meaning they had some really large orders on those days and not as many buyers but then didnt jump back down, the large purchases continued. </span>\n"
   ]
  },
  {
   "cell_type": "markdown",
   "id": "82d88678",
   "metadata": {},
   "source": [
    "### Graph the relative difference in cumulative average order size for group B compared with group A. Make conclusions and conjectures."
   ]
  },
  {
   "cell_type": "code",
   "execution_count": 28,
   "id": "4852f5f6",
   "metadata": {},
   "outputs": [],
   "source": [
    "#Merging the data into one data frame \n",
    "mergedCumulativeRevenue = (cumulativeRevenueA\n",
    "                           .merge(cumulativeRevenueB, left_on='date', right_on='date', how='left', suffixes=['A','B']))"
   ]
  },
  {
   "cell_type": "code",
   "execution_count": 29,
   "id": "74af49cf",
   "metadata": {},
   "outputs": [
    {
     "data": {
      "text/html": [
       "<div>\n",
       "<style scoped>\n",
       "    .dataframe tbody tr th:only-of-type {\n",
       "        vertical-align: middle;\n",
       "    }\n",
       "\n",
       "    .dataframe tbody tr th {\n",
       "        vertical-align: top;\n",
       "    }\n",
       "\n",
       "    .dataframe thead th {\n",
       "        text-align: right;\n",
       "    }\n",
       "</style>\n",
       "<table border=\"1\" class=\"dataframe\">\n",
       "  <thead>\n",
       "    <tr style=\"text-align: right;\">\n",
       "      <th></th>\n",
       "      <th>date</th>\n",
       "      <th>revenueA</th>\n",
       "      <th>ordersA</th>\n",
       "      <th>revenueB</th>\n",
       "      <th>ordersB</th>\n",
       "    </tr>\n",
       "  </thead>\n",
       "  <tbody>\n",
       "    <tr>\n",
       "      <th>0</th>\n",
       "      <td>2019-08-01</td>\n",
       "      <td>2356.8</td>\n",
       "      <td>24</td>\n",
       "      <td>1620.0</td>\n",
       "      <td>21</td>\n",
       "    </tr>\n",
       "    <tr>\n",
       "      <th>1</th>\n",
       "      <td>2019-08-02</td>\n",
       "      <td>3860.3</td>\n",
       "      <td>44</td>\n",
       "      <td>4243.8</td>\n",
       "      <td>45</td>\n",
       "    </tr>\n",
       "    <tr>\n",
       "      <th>2</th>\n",
       "      <td>2019-08-03</td>\n",
       "      <td>5675.5</td>\n",
       "      <td>68</td>\n",
       "      <td>6050.6</td>\n",
       "      <td>61</td>\n",
       "    </tr>\n",
       "    <tr>\n",
       "      <th>3</th>\n",
       "      <td>2019-08-04</td>\n",
       "      <td>6822.1</td>\n",
       "      <td>84</td>\n",
       "      <td>7767.9</td>\n",
       "      <td>78</td>\n",
       "    </tr>\n",
       "    <tr>\n",
       "      <th>4</th>\n",
       "      <td>2019-08-05</td>\n",
       "      <td>8810.2</td>\n",
       "      <td>109</td>\n",
       "      <td>9262.9</td>\n",
       "      <td>101</td>\n",
       "    </tr>\n",
       "  </tbody>\n",
       "</table>\n",
       "</div>"
      ],
      "text/plain": [
       "        date  revenueA  ordersA  revenueB  ordersB\n",
       "0 2019-08-01    2356.8       24    1620.0       21\n",
       "1 2019-08-02    3860.3       44    4243.8       45\n",
       "2 2019-08-03    5675.5       68    6050.6       61\n",
       "3 2019-08-04    6822.1       84    7767.9       78\n",
       "4 2019-08-05    8810.2      109    9262.9      101"
      ]
     },
     "execution_count": 29,
     "metadata": {},
     "output_type": "execute_result"
    }
   ],
   "source": [
    "mergedCumulativeRevenue.head()"
   ]
  },
  {
   "cell_type": "code",
   "execution_count": 30,
   "id": "024afa90",
   "metadata": {},
   "outputs": [
    {
     "data": {
      "image/png": "[encoded data removed]",
      "text/plain": [
       "<Figure size 1800x500 with 1 Axes>"
      ]
     },
     "metadata": {},
     "output_type": "display_data"
    }
   ],
   "source": [
    "#Plotting the relative difference in cumulative average order size for group B compared with group A\n",
    "plt.plot(mergedCumulativeRevenue['date'], \n",
    "        (mergedCumulativeRevenue['revenueB'] / mergedCumulativeRevenue['ordersB']) / \n",
    "        (mergedCumulativeRevenue['revenueA'] / mergedCumulativeRevenue['ordersA'])-1)\n",
    "plt.axhline(y=0, color='black', linestyle='--')\n",
    "plt.rcParams[\"figure.figsize\"] = (20,3)\n",
    "plt.title('Relative difference for avg order size', fontdict={'size':16})\n",
    "plt.show()"
   ]
  },
  {
   "cell_type": "markdown",
   "id": "2aac95d3",
   "metadata": {},
   "source": [
    "<span style=\"color:blue\"> \n",
    "\n",
    "At several points the difference between the segments spikes. This means there must be some big orders and outliers! </span>"
   ]
  },
  {
   "cell_type": "markdown",
   "id": "31abc6d1",
   "metadata": {},
   "source": [
    "### Calculate each group's conversion rate as the ratio of orders to the number of visits for each day. Plot the daily conversion rates of the two groups and describe the difference. Draw conclusions and make conjectures.\n"
   ]
  },
  {
   "cell_type": "code",
   "execution_count": 31,
   "id": "3557d92d",
   "metadata": {},
   "outputs": [
    {
     "data": {
      "text/html": [
       "<div>\n",
       "<style scoped>\n",
       "    .dataframe tbody tr th:only-of-type {\n",
       "        vertical-align: middle;\n",
       "    }\n",
       "\n",
       "    .dataframe tbody tr th {\n",
       "        vertical-align: top;\n",
       "    }\n",
       "\n",
       "    .dataframe thead th {\n",
       "        text-align: right;\n",
       "    }\n",
       "</style>\n",
       "<table border=\"1\" class=\"dataframe\">\n",
       "  <thead>\n",
       "    <tr style=\"text-align: right;\">\n",
       "      <th></th>\n",
       "      <th>date</th>\n",
       "      <th>group</th>\n",
       "      <th>orders</th>\n",
       "      <th>buyers</th>\n",
       "      <th>revenue</th>\n",
       "      <th>visits</th>\n",
       "    </tr>\n",
       "  </thead>\n",
       "  <tbody>\n",
       "    <tr>\n",
       "      <th>0</th>\n",
       "      <td>2019-08-01</td>\n",
       "      <td>A</td>\n",
       "      <td>24</td>\n",
       "      <td>20</td>\n",
       "      <td>2356.8</td>\n",
       "      <td>719</td>\n",
       "    </tr>\n",
       "  </tbody>\n",
       "</table>\n",
       "</div>"
      ],
      "text/plain": [
       "        date group  orders  buyers  revenue  visits\n",
       "0 2019-08-01     A      24      20   2356.8     719"
      ]
     },
     "execution_count": 31,
     "metadata": {},
     "output_type": "execute_result"
    }
   ],
   "source": [
    "cumulative_data.head(1)"
   ]
  },
  {
   "cell_type": "code",
   "execution_count": 32,
   "id": "d2e05f6d",
   "metadata": {},
   "outputs": [],
   "source": [
    "#Calculating cumulative conversion\n",
    "cumulative_data['conversion'] = cumulative_data['orders'] / cumulative_data['buyers']"
   ]
  },
  {
   "cell_type": "code",
   "execution_count": 33,
   "id": "258f8145",
   "metadata": {},
   "outputs": [],
   "source": [
    "#selecting data on group A\n",
    "cumulativeDataA = cumulative_data[cumulative_data['group']=='A']\n",
    "#selecting data on group B\n",
    "cumulativeDataB = cumulative_data[cumulative_data['group']=='B']"
   ]
  },
  {
   "cell_type": "code",
   "execution_count": 34,
   "id": "e674d4f2",
   "metadata": {},
   "outputs": [
    {
     "data": {
      "image/png": "[encoded data removed]",
      "text/plain": [
       "<Figure size 2000x300 with 1 Axes>"
      ]
     },
     "metadata": {},
     "output_type": "display_data"
    }
   ],
   "source": [
    "#Plotting the conversion rates for group A and B over time \n",
    "plt.plot(cumulativeDataA['date'], cumulativeDataA['conversion'], label='A')\n",
    "plt.plot(cumulativeDataB['date'], cumulativeDataB['conversion'], label='B')\n",
    "plt.rcParams[\"figure.figsize\"] = (20,3)\n",
    "plt.xlabel(\"Date\")\n",
    "plt.ylabel(\"Conversion\")\n",
    "plt.title('Conversion Rate')\n",
    "plt.axhline(y=cumulative_data['conversion'].mean(), color='black', linestyle='--')\n",
    "plt.legend()\n",
    "plt.show()"
   ]
  },
  {
   "cell_type": "code",
   "execution_count": 35,
   "id": "980333b2",
   "metadata": {},
   "outputs": [
    {
     "data": {
      "text/plain": [
       "0.9081157221800845"
      ]
     },
     "execution_count": 35,
     "metadata": {},
     "output_type": "execute_result"
    }
   ],
   "source": [
    "#overall conversion Group A:\n",
    "cumulativeDataA['buyers'].sum()/cumulativeDataA['orders'].sum()"
   ]
  },
  {
   "cell_type": "code",
   "execution_count": 36,
   "id": "9c4b3ea3",
   "metadata": {},
   "outputs": [
    {
     "data": {
      "text/plain": [
       "0.9284349321612841"
      ]
     },
     "execution_count": 36,
     "metadata": {},
     "output_type": "execute_result"
    }
   ],
   "source": [
    "#overall conversion Group B:\n",
    "cumulativeDataB['buyers'].sum()/cumulativeDataB['orders'].sum()"
   ]
  },
  {
   "cell_type": "markdown",
   "id": "518a7e08",
   "metadata": {},
   "source": [
    "<span style=\"color:blue\">Group A started out with a really high conversion rate which quickly dropped then stayed pretty steady. Group B had a small decrese in the first few days of teh test but then had a steady increase throughout the test. Group A conversion rate was 91% and Group B was 93%</span>\n"
   ]
  },
  {
   "cell_type": "markdown",
   "id": "7318d417",
   "metadata": {},
   "source": [
    "### Plot a scatter chart of the number of orders per user. Make conclusions and conjectures"
   ]
  },
  {
   "cell_type": "code",
   "execution_count": 37,
   "id": "ff457032",
   "metadata": {},
   "outputs": [
    {
     "data": {
      "text/html": [
       "<div>\n",
       "<style scoped>\n",
       "    .dataframe tbody tr th:only-of-type {\n",
       "        vertical-align: middle;\n",
       "    }\n",
       "\n",
       "    .dataframe tbody tr th {\n",
       "        vertical-align: top;\n",
       "    }\n",
       "\n",
       "    .dataframe thead th {\n",
       "        text-align: right;\n",
       "    }\n",
       "</style>\n",
       "<table border=\"1\" class=\"dataframe\">\n",
       "  <thead>\n",
       "    <tr style=\"text-align: right;\">\n",
       "      <th></th>\n",
       "      <th>userId</th>\n",
       "      <th>purchases</th>\n",
       "    </tr>\n",
       "  </thead>\n",
       "  <tbody>\n",
       "    <tr>\n",
       "      <th>0</th>\n",
       "      <td>5114589</td>\n",
       "      <td>1</td>\n",
       "    </tr>\n",
       "    <tr>\n",
       "      <th>1</th>\n",
       "      <td>6958315</td>\n",
       "      <td>1</td>\n",
       "    </tr>\n",
       "  </tbody>\n",
       "</table>\n",
       "</div>"
      ],
      "text/plain": [
       "    userId  purchases\n",
       "0  5114589          1\n",
       "1  6958315          1"
      ]
     },
     "execution_count": 37,
     "metadata": {},
     "output_type": "execute_result"
    }
   ],
   "source": [
    "#Creating a table with the number of orders per unique customer \n",
    "orders_per_user = orders.groupby('visitorId', as_index=False).agg({'transactionId':pd.Series.nunique})\n",
    "orders_per_user.columns = ['userId','purchases']\n",
    "orders_per_user.head(2)"
   ]
  },
  {
   "cell_type": "code",
   "execution_count": 38,
   "id": "9a231403",
   "metadata": {},
   "outputs": [
    {
     "data": {
      "image/png": "[encoded data removed]",
      "text/plain": [
       "<Figure size 2000x300 with 1 Axes>"
      ]
     },
     "metadata": {},
     "output_type": "display_data"
    }
   ],
   "source": [
    "#distribution histogram with the number of orders per user.\n",
    "plt.hist(orders_per_user['purchases'])\n",
    "plt.show()"
   ]
  },
  {
   "cell_type": "code",
   "execution_count": 39,
   "id": "ec82980f",
   "metadata": {},
   "outputs": [
    {
     "data": {
      "text/plain": [
       "count    1031.000000\n",
       "mean        1.161009\n",
       "std         0.724919\n",
       "min         1.000000\n",
       "25%         1.000000\n",
       "50%         1.000000\n",
       "75%         1.000000\n",
       "max        11.000000\n",
       "Name: purchases, dtype: float64"
      ]
     },
     "execution_count": 39,
     "metadata": {},
     "output_type": "execute_result"
    }
   ],
   "source": [
    "orders_per_user['purchases'].describe()"
   ]
  },
  {
   "cell_type": "code",
   "execution_count": 40,
   "id": "bd2657bd",
   "metadata": {},
   "outputs": [
    {
     "data": {
      "image/png": "[encoded data removed]",
      "text/plain": [
       "<Figure size 2000x300 with 1 Axes>"
      ]
     },
     "metadata": {},
     "output_type": "display_data"
    }
   ],
   "source": [
    "#Plotting a scatter plot to visualize how many orders there are per user \n",
    "x_values = pd.Series(range(0,len(orders_per_user)))\n",
    "plt.scatter(x_values,orders_per_user['purchases'])\n",
    "plt.title(\"Orders Per User\")\n",
    "plt.show()"
   ]
  },
  {
   "cell_type": "markdown",
   "id": "422fafcb",
   "metadata": {},
   "source": [
    "<span style=\"color:blue\">Looks like we have a couple of serious outliers while it looks like most people made less than two purchases there are some outliers who made more than 8 and evene some that made more than ten.</span>"
   ]
  },
  {
   "cell_type": "markdown",
   "id": "ab389dfd",
   "metadata": {},
   "source": [
    "### Calculate the 95th and 99th percentiles for the number of orders per user. Define the point at which a data point becomes an anomaly."
   ]
  },
  {
   "cell_type": "code",
   "execution_count": 41,
   "id": "7754486b",
   "metadata": {},
   "outputs": [
    {
     "name": "stdout",
     "output_type": "stream",
     "text": [
      "[2. 4.]\n"
     ]
    }
   ],
   "source": [
    "#Calculating the number of orders for the 95th and 99th percentile. \n",
    "print(np.percentile(orders_per_user['purchases'], [95,99]))"
   ]
  },
  {
   "cell_type": "markdown",
   "id": "3534c31b",
   "metadata": {},
   "source": [
    "<span style=\"color:blue\">No more than 5% of customers made more than 2 purchases And no more than 1% made more than 4 purchases. I would conclude that cutomers who made more than 2 orders are anomolies.</span>"
   ]
  },
  {
   "cell_type": "markdown",
   "id": "0a8b6554",
   "metadata": {},
   "source": [
    "### Plot a scatter chart of order prices. Make conclusions and conjectures."
   ]
  },
  {
   "cell_type": "code",
   "execution_count": 42,
   "id": "a0c7baf7",
   "metadata": {},
   "outputs": [
    {
     "data": {
      "text/plain": [
       "count     1197.000000\n",
       "mean       131.491646\n",
       "std        603.004729\n",
       "min          5.000000\n",
       "25%         20.800000\n",
       "50%         50.200000\n",
       "75%        130.400000\n",
       "max      19920.400000\n",
       "Name: revenue, dtype: float64"
      ]
     },
     "execution_count": 42,
     "metadata": {},
     "output_type": "execute_result"
    }
   ],
   "source": [
    "orders.revenue.describe()"
   ]
  },
  {
   "cell_type": "code",
   "execution_count": 43,
   "id": "d508d6f4",
   "metadata": {},
   "outputs": [
    {
     "data": {
      "image/png": "[encoded data removed]",
      "text/plain": [
       "<Figure size 2000x300 with 1 Axes>"
      ]
     },
     "metadata": {},
     "output_type": "display_data"
    }
   ],
   "source": [
    "#distribution histogram with the price of orders.\n",
    "plt.hist(orders['revenue'])\n",
    "plt.show()"
   ]
  },
  {
   "cell_type": "code",
   "execution_count": 44,
   "id": "ee8c7d7f",
   "metadata": {},
   "outputs": [
    {
     "data": {
      "text/plain": [
       "<AxesSubplot:xlabel='transactionId', ylabel='revenue'>"
      ]
     },
     "execution_count": 44,
     "metadata": {},
     "output_type": "execute_result"
    },
    {
     "data": {
      "image/png": "[encoded data removed]",
      "text/plain": [
       "<Figure size 2000x300 with 1 Axes>"
      ]
     },
     "metadata": {},
     "output_type": "display_data"
    }
   ],
   "source": [
    "#Plotting a scatter plot to visualize order price.\n",
    "orders.plot.scatter(x ='transactionId', y='revenue')"
   ]
  },
  {
   "cell_type": "markdown",
   "id": "251e9f4a",
   "metadata": {},
   "source": [
    "<span style=\"color:blue\">Looks like there are a few orders that were out of the ordinary</span>"
   ]
  },
  {
   "cell_type": "markdown",
   "id": "7da1ca20",
   "metadata": {},
   "source": [
    "### Calculate the 95th and 99th percentiles of order prices. Define the point at which a data point becomes an anomaly."
   ]
  },
  {
   "cell_type": "code",
   "execution_count": 45,
   "id": "802fd42c",
   "metadata": {},
   "outputs": [
    {
     "name": "stdout",
     "output_type": "stream",
     "text": [
      "[435.54  900.904]\n"
     ]
    }
   ],
   "source": [
    "#Calculating the price of orders for the 95th and 99th percentile. \n",
    "print(np.percentile(orders['revenue'], [95,99]))"
   ]
  },
  {
   "cell_type": "markdown",
   "id": "bb9162dd",
   "metadata": {},
   "source": [
    "<span style=\"color:blue\">No more than 5% of orders costed more than 435.54 dollars. And no more than 1% of orders costed more than 900.90 dollars. I would conclude that orders costing more than 435.54 are anomolies.</span>"
   ]
  },
  {
   "cell_type": "markdown",
   "id": "c393077f",
   "metadata": {},
   "source": [
    "### Find the statistical significance of the difference in conversion between the groups using the raw data. Make conclusions and conjectures."
   ]
  },
  {
   "cell_type": "markdown",
   "id": "532fb0f6",
   "metadata": {},
   "source": [
    "<span style=\"color:blue\">\n",
    "\n",
    "- H0:The groups' conversion rates do not have a statistically significant differences\n",
    "- H1: The groups' conversion rates have a statistically significant differences\n",
    "</span>\n"
   ]
  },
  {
   "cell_type": "code",
   "execution_count": 46,
   "id": "476ff6f7",
   "metadata": {},
   "outputs": [
    {
     "data": {
      "text/html": [
       "<div>\n",
       "<style scoped>\n",
       "    .dataframe tbody tr th:only-of-type {\n",
       "        vertical-align: middle;\n",
       "    }\n",
       "\n",
       "    .dataframe tbody tr th {\n",
       "        vertical-align: top;\n",
       "    }\n",
       "\n",
       "    .dataframe thead th {\n",
       "        text-align: right;\n",
       "    }\n",
       "</style>\n",
       "<table border=\"1\" class=\"dataframe\">\n",
       "  <thead>\n",
       "    <tr style=\"text-align: right;\">\n",
       "      <th></th>\n",
       "      <th>date</th>\n",
       "      <th>group</th>\n",
       "      <th>visits</th>\n",
       "    </tr>\n",
       "  </thead>\n",
       "  <tbody>\n",
       "    <tr>\n",
       "      <th>0</th>\n",
       "      <td>2019-08-01</td>\n",
       "      <td>A</td>\n",
       "      <td>719</td>\n",
       "    </tr>\n",
       "    <tr>\n",
       "      <th>1</th>\n",
       "      <td>2019-08-02</td>\n",
       "      <td>A</td>\n",
       "      <td>619</td>\n",
       "    </tr>\n",
       "    <tr>\n",
       "      <th>2</th>\n",
       "      <td>2019-08-03</td>\n",
       "      <td>A</td>\n",
       "      <td>507</td>\n",
       "    </tr>\n",
       "    <tr>\n",
       "      <th>3</th>\n",
       "      <td>2019-08-04</td>\n",
       "      <td>A</td>\n",
       "      <td>717</td>\n",
       "    </tr>\n",
       "    <tr>\n",
       "      <th>4</th>\n",
       "      <td>2019-08-05</td>\n",
       "      <td>A</td>\n",
       "      <td>756</td>\n",
       "    </tr>\n",
       "  </tbody>\n",
       "</table>\n",
       "</div>"
      ],
      "text/plain": [
       "        date group  visits\n",
       "0 2019-08-01     A     719\n",
       "1 2019-08-02     A     619\n",
       "2 2019-08-03     A     507\n",
       "3 2019-08-04     A     717\n",
       "4 2019-08-05     A     756"
      ]
     },
     "execution_count": 46,
     "metadata": {},
     "output_type": "execute_result"
    }
   ],
   "source": [
    "visits.head()"
   ]
  },
  {
   "cell_type": "code",
   "execution_count": 47,
   "id": "bf5ff9cc",
   "metadata": {},
   "outputs": [
    {
     "data": {
      "text/html": [
       "<div>\n",
       "<style scoped>\n",
       "    .dataframe tbody tr th:only-of-type {\n",
       "        vertical-align: middle;\n",
       "    }\n",
       "\n",
       "    .dataframe tbody tr th {\n",
       "        vertical-align: top;\n",
       "    }\n",
       "\n",
       "    .dataframe thead th {\n",
       "        text-align: right;\n",
       "    }\n",
       "</style>\n",
       "<table border=\"1\" class=\"dataframe\">\n",
       "  <thead>\n",
       "    <tr style=\"text-align: right;\">\n",
       "      <th></th>\n",
       "      <th>transactionId</th>\n",
       "      <th>visitorId</th>\n",
       "      <th>date</th>\n",
       "      <th>revenue</th>\n",
       "      <th>group</th>\n",
       "    </tr>\n",
       "  </thead>\n",
       "  <tbody>\n",
       "    <tr>\n",
       "      <th>0</th>\n",
       "      <td>3667963787</td>\n",
       "      <td>3312258926</td>\n",
       "      <td>2019-08-15</td>\n",
       "      <td>30.4</td>\n",
       "      <td>B</td>\n",
       "    </tr>\n",
       "    <tr>\n",
       "      <th>1</th>\n",
       "      <td>2804400009</td>\n",
       "      <td>3642806036</td>\n",
       "      <td>2019-08-15</td>\n",
       "      <td>15.2</td>\n",
       "      <td>B</td>\n",
       "    </tr>\n",
       "  </tbody>\n",
       "</table>\n",
       "</div>"
      ],
      "text/plain": [
       "   transactionId   visitorId       date  revenue group\n",
       "0     3667963787  3312258926 2019-08-15     30.4     B\n",
       "1     2804400009  3642806036 2019-08-15     15.2     B"
      ]
     },
     "execution_count": 47,
     "metadata": {},
     "output_type": "execute_result"
    }
   ],
   "source": [
    "orders.head(2)"
   ]
  },
  {
   "cell_type": "code",
   "execution_count": 48,
   "id": "d7550da7",
   "metadata": {},
   "outputs": [],
   "source": [
    "#variables that store a list of users for their respective groups that made more than one purchase\n",
    "orders_by_usersA = orders[orders['group']=='A'].groupby('visitorId', as_index=False).agg({'transactionId':pd.Series.nunique})\n",
    "orders_by_usersA.columns = ['visitor_id', 'purchases']\n",
    "\n",
    "orders_by_usersB = orders[orders['group']=='B'].groupby('visitorId', as_index=False).agg({'transactionId':pd.Series.nunique})\n",
    "orders_by_usersB.columns = ['visitor_id', 'purchases']"
   ]
  },
  {
   "cell_type": "code",
   "execution_count": 49,
   "id": "4c5a51ea",
   "metadata": {},
   "outputs": [],
   "source": [
    "# Adding in those who didnt make any purchases\n",
    "sampleA = pd.concat(\n",
    "        [orders_by_usersA['purchases'],\n",
    "        pd.Series(0, index=np.arange(visits[visits['group'] =='A']['visits'].sum() - \n",
    "                                    len(orders_by_usersA['purchases'])),\n",
    "                 name='orders')],axis=0)\n",
    "\n",
    "sampleB = pd.concat(\n",
    "        [orders_by_usersB['purchases'],\n",
    "        pd.Series(0, index=np.arange(visits[visits['group'] =='B']['visits'].sum() - \n",
    "                                    len(orders_by_usersB['purchases'])),\n",
    "                 name='orders')],axis=0)\n"
   ]
  },
  {
   "cell_type": "code",
   "execution_count": 50,
   "id": "3367a5c1",
   "metadata": {},
   "outputs": [
    {
     "name": "stdout",
     "output_type": "stream",
     "text": [
      "p-value: 0.01679\n",
      "conversion gain for group B: 0.138\n"
     ]
    }
   ],
   "source": [
    "#Calculating the statistical significance \n",
    "print('p-value:',\"{0:.5f}\".format(stats.mannwhitneyu(sampleA, sampleB)[1]))\n",
    "#the conversion gain for group B\n",
    "print('conversion gain for group B:',\"{0:.3f}\".format(sampleB.mean()/sampleA.mean()-1))"
   ]
  },
  {
   "cell_type": "markdown",
   "id": "32c5b0c6",
   "metadata": {},
   "source": [
    "<span style=\"color:blue\">The p-value, 0.017, is lower than 0.05, so we reject the null hypothesis. The raw data analysis showed that the groups' conversion rates have a statistically significant differences. The relative conversion gain for group B compared with group A is 13.8%.   </span>"
   ]
  },
  {
   "cell_type": "markdown",
   "id": "4563b5a1",
   "metadata": {},
   "source": [
    "### Find the statistical significance of the difference in average order size between the groups using the raw data. Make conclusions and conjectures."
   ]
  },
  {
   "cell_type": "markdown",
   "id": "7c331ad8",
   "metadata": {},
   "source": [
    "<span style=\"color:blue\">\n",
    "\n",
    "- H0:The groups' average order size do not have a statistically significant differences\n",
    "- H1: The groups' average order size have a statistically significant differences\n",
    "</span>\n"
   ]
  },
  {
   "cell_type": "code",
   "execution_count": 51,
   "id": "2e56a237",
   "metadata": {},
   "outputs": [
    {
     "name": "stdout",
     "output_type": "stream",
     "text": [
      "p-value: 0.692\n",
      "relative conversion gain for group B: 0.252\n"
     ]
    }
   ],
   "source": [
    "#Calculating the statistical significance(P-value)\n",
    "print('p-value:','{0:.3f}'.format(stats.mannwhitneyu(orders[orders['group']=='A']['revenue'], orders[orders['group']=='B']['revenue'])[1]))\n",
    "#The relative conversion gain for group B \n",
    "print('relative conversion gain for group B:','{0:.3f}'.format(orders[orders['group']=='B']['revenue'].mean()/orders[orders['group']=='A']['revenue'].mean()-1)) "
   ]
  },
  {
   "cell_type": "markdown",
   "id": "aaa24332",
   "metadata": {},
   "source": [
    "<span style=\"color:blue\">The p-value, 0.692, is considerably higher than 0.05, so we can not reject the null hypothesis. The raw data analysis showed that the groups' average orders size have statistically significant differences. The relative relative difference is 25.2%.</span>"
   ]
  },
  {
   "cell_type": "markdown",
   "id": "931ff8e9",
   "metadata": {},
   "source": [
    "### Find the statistical significance of the difference in conversion between the groups using the filtered data. Make conclusions and conjectures."
   ]
  },
  {
   "cell_type": "markdown",
   "id": "ff3b18e5",
   "metadata": {},
   "source": [
    "<span style=\"color:blue\">\n",
    "\n",
    "- H0:The groups' conversion rates do not have a statistically significant differences\n",
    "- H1: The groups' conversion rates have a statistically significant differences\n",
    "</span>"
   ]
  },
  {
   "cell_type": "code",
   "execution_count": 52,
   "id": "ccc93379",
   "metadata": {},
   "outputs": [],
   "source": [
    "#Users with many orders \n",
    "users_with_many_orders = pd.concat([\n",
    "        orders_by_usersA[orders_by_usersA['purchases']>2]['visitor_id'],\n",
    "        orders_by_usersA[orders_by_usersA['purchases']>2]['visitor_id']],axis=0)\n",
    "\n",
    "#users with expensive orders\n",
    "users_with_expensive_order = orders[orders['revenue'] > 435.54]['visitorId']\n",
    "\n",
    "#combined them\n",
    "abnormal_users = pd.concat([users_with_many_orders, users_with_expensive_order], \n",
    "                           axis=0).drop_duplicates().sort_values()"
   ]
  },
  {
   "cell_type": "code",
   "execution_count": 53,
   "id": "c3794c4f",
   "metadata": {},
   "outputs": [
    {
     "data": {
      "text/plain": [
       "(68,)"
      ]
     },
     "execution_count": 53,
     "metadata": {},
     "output_type": "execute_result"
    }
   ],
   "source": [
    "#How many anomalies are there \n",
    "abnormal_users.shape"
   ]
  },
  {
   "cell_type": "code",
   "execution_count": 54,
   "id": "ba536cb1",
   "metadata": {},
   "outputs": [],
   "source": [
    "#calculate the statistical significance of the differences in conversion between the groups,\n",
    "#using filtered data.\n",
    "\n",
    "#samples of the number of orders per user for each test group\n",
    "sampleAfiltered = pd.concat([\n",
    "        orders_by_usersA[np.logical_not(orders_by_usersA['visitor_id'].isin(abnormal_users))]['purchases'],\n",
    "        pd.Series(0, index=np.arange(visits[visits['group'] =='A']['visits'].sum() - len(orders_by_usersA['purchases'])),\n",
    "                 name='orders')],axis=0)\n",
    "\n",
    "sampleBfiltered = pd.concat([\n",
    "        orders_by_usersB[np.logical_not(orders_by_usersB['visitor_id'].isin(abnormal_users))]['purchases'],\n",
    "        pd.Series(0, index=np.arange(visits[visits['group'] =='B']['visits'].sum() - len(orders_by_usersB['purchases'])),\n",
    "                 name='orders')],axis=0)"
   ]
  },
  {
   "cell_type": "code",
   "execution_count": 55,
   "id": "61d7e02c",
   "metadata": {},
   "outputs": [
    {
     "name": "stdout",
     "output_type": "stream",
     "text": [
      "p-value 0.011\n",
      "relative gain for group B 0.204\n"
     ]
    }
   ],
   "source": [
    "#Calculating the statistical significance \n",
    "print('p-value',\"{0:.3f}\".format(stats.mannwhitneyu(sampleAfiltered, sampleBfiltered)[1]))\n",
    "#the relative gain for group B\n",
    "print('relative gain for group B',\"{0:.3f}\".format(sampleBfiltered.mean()/sampleAfiltered.mean()-1))"
   ]
  },
  {
   "cell_type": "markdown",
   "id": "1578a6e6",
   "metadata": {},
   "source": [
    "<span style=\"color:blue\">The p-values(0.011) is lower than 0.05, so we reject the null hypothesis. The filtered data analysis showed that the groups' conversion rates have a statistically significant differences. The relative  gain for group B compared with group A is 20.4% higher.</span>\n"
   ]
  },
  {
   "cell_type": "markdown",
   "id": "5ee66519",
   "metadata": {},
   "source": [
    "### Find the statistical significance of the difference in average order size between the groups using the filtered data. Make conclusions and conjectures.\n"
   ]
  },
  {
   "cell_type": "markdown",
   "id": "3f6cd5d1",
   "metadata": {},
   "source": [
    "<span style=\"color:blue\">\n",
    "\n",
    "- H0:The groups' average order size do not have a statistically significant differences\n",
    "- H1: The groups' average order size have a statistically significant differences\n",
    "</span>"
   ]
  },
  {
   "cell_type": "code",
   "execution_count": 56,
   "id": "a21898f5",
   "metadata": {},
   "outputs": [
    {
     "name": "stdout",
     "output_type": "stream",
     "text": [
      "p-value: 0.824\n",
      "relative conversion gain for group B: -0.016\n"
     ]
    }
   ],
   "source": [
    "#Calculating the statistical significance(P-value) for the filtered data\n",
    "print('p-value:','{0:.3f}'.format(stats.mannwhitneyu(\n",
    "    orders[np.logical_and(\n",
    "        orders['group']=='A',\n",
    "        np.logical_not(orders['visitorId'].isin(abnormal_users)))]['revenue'],\n",
    "    orders[np.logical_and(\n",
    "        orders['group']=='B',\n",
    "        np.logical_not(orders['visitorId'].isin(abnormal_users)))]['revenue'])[1]))\n",
    "\n",
    "print('relative conversion gain for group B:','{0:.3f}'.format(\n",
    "    orders[np.logical_and(orders['group']=='B',np.logical_not(orders['visitorId']\n",
    "                                                              .isin(abnormal_users)))]['revenue'].mean()/\n",
    "    orders[np.logical_and(\n",
    "        orders['group']=='A',\n",
    "        np.logical_not(orders['visitorId'].isin(abnormal_users)))]['revenue'].mean() - 1))\n",
    "\n"
   ]
  },
  {
   "cell_type": "markdown",
   "id": "55e3a590",
   "metadata": {},
   "source": [
    "<span style=\"color:blue\">The p-values, 0.824, is significantly higher than 0.05, so we can not reject the null hypothesis. The filtered data analysis showed that the groups' average order size have a statistically significant differences. The relative  gain for group B compared with group A is 1.6% lower.</span>"
   ]
  },
  {
   "cell_type": "markdown",
   "id": "54a774fa",
   "metadata": {},
   "source": [
    "### Make a decision based on the test results. The possible decisions are: 1. Stop the test, consider one of the groups the leader. 2. Stop the test, conclude that there is no difference between the groups. 3. Continue the test."
   ]
  },
  {
   "cell_type": "markdown",
   "id": "998154c7",
   "metadata": {},
   "source": [
    "<span style=\"color:blue\">In conclusion, the results of the data analysis project for the big online store revealed that group B had a 2% higher conversion rate compared to group A, and generated higher revenue at the end of the trial. Both the raw and filtered data showed a statistically significant difference in conversion between the two groups, with group B having better results. Additionally, there was a statistically significant difference in the average purchase size between the groups, even after removing the anomalies. The graph of the difference in conversion showed that group B had a better positive performance, while group A had an initial decrease before stabilizing slightly above the mean. The graph of the difference in average purchase size showed fluctuations, making it difficult to draw definite conclusions. Based on these findings, it is recommended to stop the test and declare it a success, and move on to the next hypothesis.</span>"
   ]
  }
 ],
 "metadata": {
  "kernelspec": {
   "display_name": "Python 3 (ipykernel)",
   "language": "python",
   "name": "python3"
  },
  "language_info": {
   "codemirror_mode": {
    "name": "ipython",
    "version": 3
   },
   "file_extension": ".py",
   "mimetype": "text/x-python",
   "name": "python",
   "nbconvert_exporter": "python",
   "pygments_lexer": "ipython3",
   "version": "3.9.13"
  },
  "toc": {
   "base_numbering": 1,
   "nav_menu": {},
   "number_sections": true,
   "sideBar": true,
   "skip_h1_title": false,
   "title_cell": "Table of Contents",
   "title_sidebar": "Contents",
   "toc_cell": false,
   "toc_position": {},
   "toc_section_display": true,
   "toc_window_display": true
  }
 },
 "nbformat": 4,
 "nbformat_minor": 5
}
